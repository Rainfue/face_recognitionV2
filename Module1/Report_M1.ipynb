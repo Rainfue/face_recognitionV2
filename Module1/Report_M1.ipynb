{
 "cells": [
  {
   "cell_type": "markdown",
   "metadata": {},
   "source": [
    "# Модуль А. Анализ и предобработка данных"
   ]
  },
  {
   "cell_type": "markdown",
   "metadata": {},
   "source": [
    "## Импорт библиотек"
   ]
  },
  {
   "cell_type": "code",
   "execution_count": 1,
   "metadata": {},
   "outputs": [],
   "source": [
    "# для преобразований фотографий\n",
    "import cv2\n",
    "from PIL import Image\n",
    "\n",
    "# для работы с файловой системой\n",
    "import os\n",
    "import shutil\n",
    "\n",
    "# модуль с более удобными словарями\n",
    "from collections import defaultdict\n",
    "\n",
    "# для разбиения на выборки\n",
    "from sklearn.model_selection import train_test_split\n",
    "\n",
    "# для визуализации\n",
    "import matplotlib.pyplot as plt\n"
   ]
  },
  {
   "cell_type": "markdown",
   "metadata": {},
   "source": []
  }
 ],
 "metadata": {
  "kernelspec": {
   "display_name": ".venv",
   "language": "python",
   "name": "python3"
  },
  "language_info": {
   "codemirror_mode": {
    "name": "ipython",
    "version": 3
   },
   "file_extension": ".py",
   "mimetype": "text/x-python",
   "name": "python",
   "nbconvert_exporter": "python",
   "pygments_lexer": "ipython3",
   "version": "3.11.9"
  }
 },
 "nbformat": 4,
 "nbformat_minor": 2
}
