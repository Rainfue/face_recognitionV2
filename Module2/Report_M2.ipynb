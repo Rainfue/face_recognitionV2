{
 "cells": [
  {
   "cell_type": "markdown",
   "metadata": {},
   "source": [
    "# Модуль Б. Разработка модели машинного обучения"
   ]
  },
  {
   "cell_type": "markdown",
   "metadata": {},
   "source": [
    "## Импортирование библиотек"
   ]
  },
  {
   "cell_type": "code",
   "execution_count": 172,
   "metadata": {},
   "outputs": [],
   "source": [
    "# \n",
    "import zipfile\n",
    "\n",
    "#\n",
    "from ultralytics import YOLO\n",
    "\n",
    "# \n",
    "import pandas as pd\n",
    "\n",
    "#\n",
    "import numpy as np\n",
    "\n",
    "#\n",
    "import matplotlib.pyplot as plt\n",
    "%matplotlib inline\n",
    "\n",
    "#\n",
    "import os\n",
    "\n",
    "# \n",
    "from deepface import DeepFace\n",
    "\n",
    "#\n",
    "import torch\n",
    "\n",
    "#\n",
    "import cv2\n",
    "\n",
    "# \n",
    "import numpy as np\n",
    "\n",
    "#\n",
    "from PIL import Image\n",
    "\n",
    "#\n",
    "from tqdm import tqdm"
   ]
  },
  {
   "cell_type": "code",
   "execution_count": 2,
   "metadata": {},
   "outputs": [
    {
     "name": "stdout",
     "output_type": "stream",
     "text": [
      "True\n",
      "True\n",
      "['face_detection.zip', 'face_recognition.zip']\n"
     ]
    }
   ],
   "source": [
    "# назначаем основные пути\n",
    "module_dir = os.getcwd()\n",
    "main_dir = module_dir[:-8]\n",
    "data_dir = os.path.join(main_dir, r'Module1\\Data')\n",
    "# логирование\n",
    "print(os.path.exists(main_dir))\n",
    "print(os.path.exists(data_dir))\n",
    "print(os.listdir(data_dir))"
   ]
  },
  {
   "cell_type": "code",
   "execution_count": 3,
   "metadata": {},
   "outputs": [
    {
     "name": "stdout",
     "output_type": "stream",
     "text": [
      "cpu\n"
     ]
    }
   ],
   "source": [
    "device = torch.device('cuda' if torch.cuda.is_available() else 'cpu')\n",
    "print(device)"
   ]
  },
  {
   "cell_type": "markdown",
   "metadata": {},
   "source": [
    "## Загрузка данных"
   ]
  },
  {
   "cell_type": "code",
   "execution_count": 4,
   "metadata": {},
   "outputs": [
    {
     "name": "stdout",
     "output_type": "stream",
     "text": [
      "d:\\Helper\\MLBazyak\\chemp\\face_recognitionV2\\Module1\\Data\\face_detection.zip\n",
      "d:\\Helper\\MLBazyak\\chemp\\face_recognitionV2\\Module1\\Data\\face_recognition.zip\n",
      "True\n",
      "True\n"
     ]
    }
   ],
   "source": [
    "# получаем пути к архивам\n",
    "face_det_zip = os.path.join(data_dir, os.listdir(data_dir)[0])\n",
    "face_rec_zip = os.path.join(data_dir, os.listdir(data_dir)[1])\n",
    "# логирование\n",
    "print(face_det_zip)\n",
    "print(face_rec_zip)\n",
    "print(os.path.exists(face_det_zip))\n",
    "print(os.path.exists(face_rec_zip))\n"
   ]
  },
  {
   "cell_type": "code",
   "execution_count": 5,
   "metadata": {},
   "outputs": [],
   "source": [
    "# создаем папку с данными\n",
    "module_data_path = os.path.join(module_dir, 'Data')\n",
    "os.makedirs(module_data_path, exist_ok=True)\n",
    "# и папки с данными для детекции и распознавания\n",
    "face_det = os.path.join(module_data_path, 'face_detection')\n",
    "face_rec = os.path.join(module_data_path, 'face_recognition')\n",
    "os.makedirs(face_det, exist_ok=True)\n",
    "os.makedirs(face_rec, exist_ok=True)"
   ]
  },
  {
   "cell_type": "markdown",
   "metadata": {},
   "source": [
    "для продолжения работы, надо разархивировать данные с прошлого модуля"
   ]
  },
  {
   "cell_type": "code",
   "execution_count": 7,
   "metadata": {},
   "outputs": [
    {
     "name": "stdout",
     "output_type": "stream",
     "text": [
      "Данные успешно разархивированны\n"
     ]
    }
   ],
   "source": [
    "# датасет для детекции\n",
    "with zipfile.ZipFile(face_det_zip, 'r') as zip:\n",
    "    # выгружаем файлы из архива\n",
    "    zip.extractall(face_det)\n",
    "\n",
    "# датасет для распознавания\n",
    "with zipfile.ZipFile(face_rec_zip, 'r') as zip:\n",
    "    # выгружаем файлы из архива\n",
    "    zip.extractall(face_rec)\n",
    "\n",
    "print('Данные успешно разархивированны')"
   ]
  },
  {
   "cell_type": "markdown",
   "metadata": {},
   "source": [
    "## Выбор алгоритма машинного обучения"
   ]
  },
  {
   "cell_type": "markdown",
   "metadata": {},
   "source": [
    "**Алгоритм детекции:**\n",
    "\n",
    "В качестве алгоритма детекции, я буду использовать предобученную модель из семейства `YOLO` - `yolov8n` (nano-версия YOLOv8). Это самая маленькая модель из линейки, обеспечивает оптимальный баланс между точностью и скоростью. Это может быть важно, для решения задач реального времени (в нашем случае - детекция лиц).\n",
    "\n",
    "Также, модель достаточно легкая, что позволяет работать на устройствах с ограниченными вычислительными мощностями, и так как в моем распоряжении только CPU (процессор), подобная модель будет оптимальным выбором\n",
    "\n",
    "Архитектура моделей из семейства `YOLO` - разработана для решения задачи детекции, и обрабатывает изображение за 1 проход через нейронную сеть. Это делает подобные модели быстрее по сравнению с другими подходами, такими как `R-CNN` или `Faster R-CNN`.\n",
    "\n",
    "`YOLOv8` поставляется с предобученными весами, что позволяет использовать ее сразу, или дообучить модель на собственных данных, настроив ее на более точное решение задачи\n",
    "\n",
    "У `YOLOv8` простой и удобный API, который позволяет быстро начать работу с моделью, интегрируя ее в свой проект\n",
    "\n",
    "Хоть мы и берем веса `nano`, всегда есть возможность переключить на более тяжелые модели, например `medium` или `large`, так как `YOLO` легко масштабируется\n",
    "\n",
    "По итогу, я считаю что для моей задачи данная модель - наилучший вариант, поэтому для своего решения я буду использовать именно её"
   ]
  },
  {
   "cell_type": "markdown",
   "metadata": {},
   "source": [
    "------------------------------------------"
   ]
  },
  {
   "cell_type": "markdown",
   "metadata": {},
   "source": [
    "**Алгоритм распознования:**\n",
    "\n",
    "В качестве алгоритма распознавания, я буду использовать `косинусное сходство` `эмбеддингов`, извлеченных с помощью модели `Facenet512` из библиотеки `DeepFace`\n",
    "\n",
    "**Facenet512**\n",
    "\n",
    "Модель `Facenet512` - одна из самых популярных и точных моделей для задач распознавания лиц. Она основана на архитектуре глубоких нейронных сетей, и предобученна на больших наборах данных\n",
    "\n",
    "Модель преобразует фотографии в `512-мерные` эмбеддинге (векторные представления), которые эффективно кодируют уникальные черты лица\n",
    "\n",
    "`Facenet512` показывает отличные результаты на стандартных `бенчмарках`, что делает ее надежным выбором для задач распознавания\n",
    "\n",
    "Модель извлекает эмбеддинги за 1 проход через нейронную сеть, что делает процесс быстрым и эффективным\n",
    "\n",
    "Также, Facenet512 устойчива к различным вариациям изображений, что делает ее подходящей для работы в реальных условиях\n",
    "\n",
    "--------------------------------------------------------------------------\n",
    "\n",
    "**Косинусное сходство**\n",
    "\n",
    "`Косинусное сходство` - это метрика, которая измеряет угол между двумя векторами в многомерном пространстве. Она идеально подходит для сравнения эмбеддингов, так как :\n",
    "- не зависит от длины векторов\n",
    "- фокусируется на направлении векторов\n",
    "\n",
    "Метрика возвращает значение в диапазоне от `-1 до 1`, где 1 означает `полное совпадение`, а -1 - `полное различие`\n",
    "\n",
    "Метрика проста в вычислении и интерпретации, что делает ее удобной для `задач распознавания`\n"
   ]
  },
  {
   "cell_type": "markdown",
   "metadata": {},
   "source": [
    "## Модель детекции"
   ]
  },
  {
   "cell_type": "code",
   "execution_count": 6,
   "metadata": {},
   "outputs": [],
   "source": [
    "model = YOLO(model='yolov8n.pt', task='detect')"
   ]
  },
  {
   "cell_type": "markdown",
   "metadata": {},
   "source": [
    "создаем `.yaml` файл, для загрузки данных в модель"
   ]
  },
  {
   "cell_type": "code",
   "execution_count": 7,
   "metadata": {},
   "outputs": [
    {
     "name": "stdout",
     "output_type": "stream",
     "text": [
      "New https://pypi.org/project/ultralytics/8.3.75 available  Update with 'pip install -U ultralytics'\n",
      "\u001b[34m\u001b[1mengine\\trainer: \u001b[0mtask=detect, mode=train, model=yolov8n.pt, data=./data.yaml, epochs=2, time=None, patience=100, batch=-1, imgsz=640, save=True, save_period=-1, cache=False, device=cpu, workers=8, project=None, name=face_detection, exist_ok=True, pretrained=True, optimizer=auto, verbose=True, seed=0, deterministic=True, single_cls=False, rect=False, cos_lr=True, close_mosaic=10, resume=False, amp=True, fraction=1.0, profile=False, freeze=None, multi_scale=False, overlap_mask=True, mask_ratio=4, dropout=0.0, val=True, split=val, save_json=False, save_hybrid=False, conf=None, iou=0.7, max_det=300, half=False, dnn=False, plots=True, source=None, vid_stride=1, stream_buffer=False, visualize=False, augment=False, agnostic_nms=False, classes=None, retina_masks=False, embed=None, show=False, save_frames=False, save_txt=False, save_conf=False, save_crop=False, show_labels=True, show_conf=True, show_boxes=True, line_width=None, format=torchscript, keras=False, optimize=False, int8=False, dynamic=False, simplify=True, opset=None, workspace=None, nms=False, lr0=0.01, lrf=0.01, momentum=0.937, weight_decay=0.0005, warmup_epochs=3.0, warmup_momentum=0.8, warmup_bias_lr=0.1, box=7.5, cls=0.5, dfl=1.5, pose=12.0, kobj=1.0, nbs=64, hsv_h=0.015, hsv_s=0.7, hsv_v=0.4, degrees=0.0, translate=0.1, scale=0.5, shear=0.0, perspective=0.0, flipud=0.0, fliplr=0.5, bgr=0.0, mosaic=1.0, mixup=0.0, copy_paste=0.0, copy_paste_mode=flip, auto_augment=randaugment, erasing=0.4, crop_fraction=1.0, cfg=None, tracker=botsort.yaml, save_dir=runs\\detect\\face_detection\n",
      "Overriding model.yaml nc=80 with nc=1\n",
      "\n",
      "                   from  n    params  module                                       arguments                     \n",
      "  0                  -1  1       464  ultralytics.nn.modules.conv.Conv             [3, 16, 3, 2]                 \n",
      "  1                  -1  1      4672  ultralytics.nn.modules.conv.Conv             [16, 32, 3, 2]                \n",
      "  2                  -1  1      7360  ultralytics.nn.modules.block.C2f             [32, 32, 1, True]             \n",
      "  3                  -1  1     18560  ultralytics.nn.modules.conv.Conv             [32, 64, 3, 2]                \n",
      "  4                  -1  2     49664  ultralytics.nn.modules.block.C2f             [64, 64, 2, True]             \n",
      "  5                  -1  1     73984  ultralytics.nn.modules.conv.Conv             [64, 128, 3, 2]               \n",
      "  6                  -1  2    197632  ultralytics.nn.modules.block.C2f             [128, 128, 2, True]           \n",
      "  7                  -1  1    295424  ultralytics.nn.modules.conv.Conv             [128, 256, 3, 2]              \n",
      "  8                  -1  1    460288  ultralytics.nn.modules.block.C2f             [256, 256, 1, True]           \n",
      "  9                  -1  1    164608  ultralytics.nn.modules.block.SPPF            [256, 256, 5]                 \n",
      " 10                  -1  1         0  torch.nn.modules.upsampling.Upsample         [None, 2, 'nearest']          \n",
      " 11             [-1, 6]  1         0  ultralytics.nn.modules.conv.Concat           [1]                           \n",
      " 12                  -1  1    148224  ultralytics.nn.modules.block.C2f             [384, 128, 1]                 \n",
      " 13                  -1  1         0  torch.nn.modules.upsampling.Upsample         [None, 2, 'nearest']          \n",
      " 14             [-1, 4]  1         0  ultralytics.nn.modules.conv.Concat           [1]                           \n",
      " 15                  -1  1     37248  ultralytics.nn.modules.block.C2f             [192, 64, 1]                  \n",
      " 16                  -1  1     36992  ultralytics.nn.modules.conv.Conv             [64, 64, 3, 2]                \n",
      " 17            [-1, 12]  1         0  ultralytics.nn.modules.conv.Concat           [1]                           \n",
      " 18                  -1  1    123648  ultralytics.nn.modules.block.C2f             [192, 128, 1]                 \n",
      " 19                  -1  1    147712  ultralytics.nn.modules.conv.Conv             [128, 128, 3, 2]              \n",
      " 20             [-1, 9]  1         0  ultralytics.nn.modules.conv.Concat           [1]                           \n",
      " 21                  -1  1    493056  ultralytics.nn.modules.block.C2f             [384, 256, 1]                 \n",
      " 22        [15, 18, 21]  1    751507  ultralytics.nn.modules.head.Detect           [1, [64, 128, 256]]           \n",
      "Model summary: 225 layers, 3,011,043 parameters, 3,011,027 gradients, 8.2 GFLOPs\n",
      "\n",
      "Transferred 319/355 items from pretrained weights\n",
      "\u001b[34m\u001b[1mTensorBoard: \u001b[0mStart with 'tensorboard --logdir runs\\detect\\face_detection', view at http://localhost:6006/\n",
      "Freezing layer 'model.22.dfl.conv.weight'\n"
     ]
    },
    {
     "name": "stderr",
     "output_type": "stream",
     "text": [
      "\u001b[34m\u001b[1mtrain: \u001b[0mScanning D:\\Helper\\MLBazyak\\chemp\\face_recognitionV2\\Module2\\Data\\face_detection\\train\\labels... 1536 images, 0 backgrounds, 1 corrupt: 100%|██████████| 1536/1536 [00:07<00:00, 207.97it/s]"
     ]
    },
    {
     "name": "stdout",
     "output_type": "stream",
     "text": [
      "\u001b[34m\u001b[1mtrain: \u001b[0mWARNING  D:\\Helper\\MLBazyak\\chemp\\face_recognitionV2\\Module2\\Data\\face_detection\\train\\images\\woman_6879.jpg: ignoring corrupt image/label: non-normalized or out of bounds coordinates [     1.0016]\n"
     ]
    },
    {
     "name": "stderr",
     "output_type": "stream",
     "text": [
      "\n"
     ]
    },
    {
     "name": "stdout",
     "output_type": "stream",
     "text": [
      "\u001b[34m\u001b[1mtrain: \u001b[0mNew cache created: D:\\Helper\\MLBazyak\\chemp\\face_recognitionV2\\Module2\\Data\\face_detection\\train\\labels.cache\n",
      "\u001b[34m\u001b[1mAutoBatch: \u001b[0mComputing optimal batch size for imgsz=640 at 60.0% CUDA memory utilization.\n",
      "\u001b[34m\u001b[1mAutoBatch: \u001b[0m  intended for CUDA devices, using default batch-size 16\n"
     ]
    },
    {
     "name": "stderr",
     "output_type": "stream",
     "text": [
      "\u001b[34m\u001b[1mtrain: \u001b[0mScanning D:\\Helper\\MLBazyak\\chemp\\face_recognitionV2\\Module2\\Data\\face_detection\\train\\labels.cache... 1536 images, 0 backgrounds, 1 corrupt: 100%|██████████| 1536/1536 [00:00<?, ?it/s]"
     ]
    },
    {
     "name": "stdout",
     "output_type": "stream",
     "text": [
      "\u001b[34m\u001b[1mtrain: \u001b[0mWARNING  D:\\Helper\\MLBazyak\\chemp\\face_recognitionV2\\Module2\\Data\\face_detection\\train\\images\\woman_6879.jpg: ignoring corrupt image/label: non-normalized or out of bounds coordinates [     1.0016]\n"
     ]
    },
    {
     "name": "stderr",
     "output_type": "stream",
     "text": [
      "\n",
      "\u001b[34m\u001b[1mval: \u001b[0mScanning D:\\Helper\\MLBazyak\\chemp\\face_recognitionV2\\Module2\\Data\\face_detection\\valid\\labels... 329 images, 0 backgrounds, 0 corrupt: 100%|██████████| 329/329 [00:01<00:00, 258.14it/s]"
     ]
    },
    {
     "name": "stdout",
     "output_type": "stream",
     "text": [
      "\u001b[34m\u001b[1mval: \u001b[0mNew cache created: D:\\Helper\\MLBazyak\\chemp\\face_recognitionV2\\Module2\\Data\\face_detection\\valid\\labels.cache\n"
     ]
    },
    {
     "name": "stderr",
     "output_type": "stream",
     "text": [
      "\n"
     ]
    },
    {
     "name": "stdout",
     "output_type": "stream",
     "text": [
      "Plotting labels to runs\\detect\\face_detection\\labels.jpg... \n",
      "\u001b[34m\u001b[1moptimizer:\u001b[0m 'optimizer=auto' found, ignoring 'lr0=0.01' and 'momentum=0.937' and determining best 'optimizer', 'lr0' and 'momentum' automatically... \n",
      "\u001b[34m\u001b[1moptimizer:\u001b[0m AdamW(lr=0.002, momentum=0.9) with parameter groups 57 weight(decay=0.0), 64 weight(decay=0.0005), 63 bias(decay=0.0)\n",
      "\u001b[34m\u001b[1mTensorBoard: \u001b[0mmodel graph visualization added \n",
      "Image sizes 640 train, 640 val\n",
      "Using 0 dataloader workers\n",
      "Logging results to \u001b[1mruns\\detect\\face_detection\u001b[0m\n",
      "Starting training for 2 epochs...\n",
      "\n",
      "      Epoch    GPU_mem   box_loss   cls_loss   dfl_loss  Instances       Size\n"
     ]
    },
    {
     "name": "stderr",
     "output_type": "stream",
     "text": [
      "        1/2         0G      1.129      1.481      1.468         32        640: 100%|██████████| 96/96 [17:52<00:00, 11.17s/it]\n",
      "                 Class     Images  Instances      Box(P          R      mAP50  mAP50-95): 100%|██████████| 11/11 [01:24<00:00,  7.66s/it]"
     ]
    },
    {
     "name": "stdout",
     "output_type": "stream",
     "text": [
      "                   all        329        347      0.874      0.821       0.91      0.543\n"
     ]
    },
    {
     "name": "stderr",
     "output_type": "stream",
     "text": [
      "\n"
     ]
    },
    {
     "name": "stdout",
     "output_type": "stream",
     "text": [
      "\n",
      "      Epoch    GPU_mem   box_loss   cls_loss   dfl_loss  Instances       Size\n"
     ]
    },
    {
     "name": "stderr",
     "output_type": "stream",
     "text": [
      "        2/2         0G      1.042     0.9952      1.362         31        640: 100%|██████████| 96/96 [17:24<00:00, 10.88s/it]\n",
      "                 Class     Images  Instances      Box(P          R      mAP50  mAP50-95): 100%|██████████| 11/11 [01:24<00:00,  7.70s/it]"
     ]
    },
    {
     "name": "stdout",
     "output_type": "stream",
     "text": [
      "                   all        329        347      0.965      0.948      0.984      0.669\n"
     ]
    },
    {
     "name": "stderr",
     "output_type": "stream",
     "text": [
      "\n"
     ]
    },
    {
     "name": "stdout",
     "output_type": "stream",
     "text": [
      "\n",
      "2 epochs completed in 0.637 hours.\n",
      "Optimizer stripped from runs\\detect\\face_detection\\weights\\last.pt, 6.2MB\n",
      "Optimizer stripped from runs\\detect\\face_detection\\weights\\best.pt, 6.2MB\n",
      "\n",
      "Validating runs\\detect\\face_detection\\weights\\best.pt...\n",
      "Ultralytics 8.3.61  Python-3.11.9 torch-2.5.1+cpu CPU (11th Gen Intel Core(TM) i5-1135G7 2.40GHz)\n",
      "Model summary (fused): 168 layers, 3,005,843 parameters, 0 gradients, 8.1 GFLOPs\n"
     ]
    },
    {
     "name": "stderr",
     "output_type": "stream",
     "text": [
      "                 Class     Images  Instances      Box(P          R      mAP50  mAP50-95): 100%|██████████| 11/11 [00:44<00:00,  4.06s/it]\n"
     ]
    },
    {
     "name": "stdout",
     "output_type": "stream",
     "text": [
      "                   all        329        347      0.965      0.948      0.984      0.668\n",
      "Speed: 2.6ms preprocess, 116.1ms inference, 0.0ms loss, 5.1ms postprocess per image\n",
      "Results saved to \u001b[1mruns\\detect\\face_detection\u001b[0m\n"
     ]
    }
   ],
   "source": [
    "train = model.train(\n",
    "    data = './data.yaml',\n",
    "    epochs=2,\n",
    "    batch=-1,\n",
    "    imgsz=640,\n",
    "    device=device,\n",
    "    cos_lr=True,\n",
    "    lr0=0.01,\n",
    "    name = 'face_detection',\n",
    "    exist_ok=True\n",
    ")"
   ]
  },
  {
   "cell_type": "code",
   "execution_count": 68,
   "metadata": {},
   "outputs": [],
   "source": [
    "det_model = YOLO('./runs/detect/face_detection/weights/best.pt')"
   ]
  },
  {
   "cell_type": "markdown",
   "metadata": {},
   "source": [
    "## Модель распознавания (эмбеддинги)"
   ]
  },
  {
   "cell_type": "markdown",
   "metadata": {},
   "source": [
    "извлечение эмбеддингов\n"
   ]
  },
  {
   "cell_type": "code",
   "execution_count": 166,
   "metadata": {},
   "outputs": [
    {
     "name": "stdout",
     "output_type": "stream",
     "text": [
      "31\n",
      "31\n"
     ]
    }
   ],
   "source": [
    "embs_source = './Data/face_recognition/train'\n",
    "orig_source = './Data/face_recognition/Original Images/Original Images'\n",
    "print(len(os.listdir(embs_source)))\n",
    "print(len(os.listdir(orig_source)))\n"
   ]
  },
  {
   "cell_type": "code",
   "execution_count": 176,
   "metadata": {},
   "outputs": [
    {
     "name": "stderr",
     "output_type": "stream",
     "text": [
      "Akshay Kumar - извлечение эмбеддингов..:   0%|          | 0/49 [00:00<?, ?embs/s]\n",
      "Alexandra Daddario - извлечение эмбеддингов..:   0%|          | 0/91 [00:00<?, ?embs/s]\n",
      "Alia Bhatt - извлечение эмбеддингов..:   0%|          | 0/78 [00:00<?, ?embs/s]\n",
      "Amitabh Bachchan - извлечение эмбеддингов..:   0%|          | 0/73 [00:00<?, ?embs/s]\n",
      "Andy Samberg - извлечение эмбеддингов..:   0%|          | 0/92 [00:00<?, ?embs/s]\n",
      "Anushka Sharma - извлечение эмбеддингов..:   0%|          | 0/68 [00:00<?, ?embs/s]\n",
      "Billie Eilish - извлечение эмбеддингов..:   0%|          | 0/97 [00:00<?, ?embs/s]\n",
      "Brad Pitt - извлечение эмбеддингов..:   0%|          | 0/119 [00:00<?, ?embs/s]\n",
      "Camila Cabello - извлечение эмбеддингов..:   0%|          | 0/86 [00:00<?, ?embs/s]\n",
      "Charlize Theron - извлечение эмбеддингов..:   0%|          | 0/78 [00:00<?, ?embs/s]\n",
      "Claire Holt - извлечение эмбеддингов..:   0%|          | 0/95 [00:00<?, ?embs/s]\n",
      "Courtney Cox - извлечение эмбеддингов..:   0%|          | 0/76 [00:00<?, ?embs/s]\n",
      "Dwayne Johnson - извлечение эмбеддингов..:   0%|          | 0/61 [00:00<?, ?embs/s]\n",
      "Elizabeth Olsen - извлечение эмбеддингов..:   0%|          | 0/71 [00:00<?, ?embs/s]\n",
      "Ellen Degeneres - извлечение эмбеддингов..:   0%|          | 0/75 [00:00<?, ?embs/s]\n",
      "Henry Cavill - извлечение эмбеддингов..:   0%|          | 0/102 [00:00<?, ?embs/s]\n",
      "Hrithik Roshan - извлечение эмбеддингов..:   0%|          | 0/100 [00:00<?, ?embs/s]\n",
      "Hugh Jackman - извлечение эмбеддингов..:   0%|          | 0/109 [00:00<?, ?embs/s]\n",
      "Jessica Alba - извлечение эмбеддингов..:   0%|          | 0/108 [00:00<?, ?embs/s]\n",
      "Kashyap - извлечение эмбеддингов..:   0%|          | 0/30 [00:00<?, ?embs/s]\n",
      "Lisa Kudrow - извлечение эмбеддингов..:   0%|          | 0/70 [00:00<?, ?embs/s]\n",
      "Margot Robbie - извлечение эмбеддингов..:   0%|          | 0/71 [00:00<?, ?embs/s]\n",
      "Marmik - извлечение эмбеддингов..:   0%|          | 0/31 [00:00<?, ?embs/s]\n",
      "Natalie Portman - извлечение эмбеддингов..:   0%|          | 0/102 [00:00<?, ?embs/s]\n",
      "Priyanka Chopra - извлечение эмбеддингов..:   0%|          | 0/101 [00:00<?, ?embs/s]\n",
      "Robert Downey Jr - извлечение эмбеддингов..:   0%|          | 0/113 [00:00<?, ?embs/s]\n",
      "Roger Federer - извлечение эмбеддингов..:   0%|          | 0/77 [00:00<?, ?embs/s]\n",
      "Tom Cruise - извлечение эмбеддингов..:   0%|          | 0/58 [00:00<?, ?embs/s]\n",
      "Vijay Deverakonda - извлечение эмбеддингов..:   0%|          | 0/114 [00:00<?, ?embs/s]\n",
      "Virat Kohli - извлечение эмбеддингов..:   0%|          | 0/49 [00:00<?, ?embs/s]\n",
      "Zac Efron - извлечение эмбеддингов..:   0%|          | 0/91 [00:00<?, ?embs/s]\n"
     ]
    }
   ],
   "source": [
    "#\n",
    "def create_emb_df(embs_source: str, orig_source: str, model_name='Facenet512'):\n",
    "\n",
    "    df = pd.DataFrame(columns=['name', 'orig_path', 'img_path', 'embedding'])\n",
    "\n",
    "    ind = 0\n",
    "\n",
    "    for name in os.listdir(embs_source):\n",
    "        # получаем имя \n",
    "        # print(name)\n",
    "        for img in tqdm(\n",
    "            os.listdir(os.path.join(embs_source, name)),\n",
    "            desc=f'{name} - извлечение эмбеддингов..',\n",
    "            unit='embs'\n",
    "            ):\n",
    "            # \n",
    "            ind+=1\n",
    "\n",
    "            # получаем путь\n",
    "            img_path = os.path.join(embs_source, name, img)\n",
    "            # print(img_path)\n",
    "            # print(os.path.exists(img_path))\n",
    "            # получаем путь к оригиналу\n",
    "            orig_path = os.path.join(orig_source, name, img)\n",
    "            # print(orig_path)\n",
    "            # print(os.path.exists(orig_path)) \n",
    "\n",
    "            info = DeepFace.represent(\n",
    "                                    img_path=img_path,\n",
    "                                    model_name=model_name,\n",
    "                                    enforce_detection=False,\n",
    "                                    align=True,\n",
    "                                    normalization='Facenet')\n",
    "            \n",
    "            embedding = np.array(info[0]['embedding']).reshape(1,-1)\n",
    "            df.loc[ind] = [name, orig_path, img_path, embedding]\n",
    "            break\n",
    "        df.head()\n",
    "\n",
    "\n",
    "create_emb_df(embs_source, orig_source)"
   ]
  },
  {
   "cell_type": "markdown",
   "metadata": {},
   "source": [
    "## Модель распознавания"
   ]
  },
  {
   "cell_type": "code",
   "execution_count": 84,
   "metadata": {},
   "outputs": [],
   "source": [
    "import torch\n",
    "import torch.nn as nn\n",
    "import torchvision.models as models\n",
    "from torchvision.datasets import ImageFolder\n",
    "from torch.utils.data import DataLoader\n",
    "import torch.optim as optim\n",
    "from tqdm import tqdm\n",
    "import torchvision.transforms as transforms"
   ]
  },
  {
   "cell_type": "code",
   "execution_count": 85,
   "metadata": {},
   "outputs": [],
   "source": [
    "import os\n",
    "import shutil\n",
    "import random"
   ]
  },
  {
   "cell_type": "code",
   "execution_count": 86,
   "metadata": {},
   "outputs": [],
   "source": [
    "import warnings\n",
    "warnings.filterwarnings('ignore')"
   ]
  },
  {
   "cell_type": "code",
   "execution_count": 93,
   "metadata": {},
   "outputs": [
    {
     "name": "stdout",
     "output_type": "stream",
     "text": [
      "cpu\n"
     ]
    }
   ],
   "source": [
    "BATCH_SIZE = 16\n",
    "LEARNING_RATE = 0.001\n",
    "EPOCHS = 8\n",
    "DEVICE = torch.device(\"cuda\" if torch.cuda.is_available() else \"cpu\")\n",
    "print(DEVICE)"
   ]
  },
  {
   "cell_type": "markdown",
   "metadata": {},
   "source": [
    "подготовка датасета"
   ]
  },
  {
   "cell_type": "code",
   "execution_count": 88,
   "metadata": {},
   "outputs": [
    {
     "name": "stderr",
     "output_type": "stream",
     "text": [
      "Разделение фото на выборки..: 100%|██████████| 31/31 [00:01<00:00, 17.52image/s]"
     ]
    },
    {
     "name": "stdout",
     "output_type": "stream",
     "text": [
      "Разделение на выборки завершено\n"
     ]
    },
    {
     "name": "stderr",
     "output_type": "stream",
     "text": [
      "\n"
     ]
    }
   ],
   "source": [
    "# папки с фотографиями\n",
    "crop_source = './Data/face_recognition/Faces/Faces'\n",
    "train = './Data/face_recognition/train'\n",
    "test = './Data/face_recognition/test'\n",
    "\n",
    "# если папки с выборками нет - создаем их\n",
    "os.makedirs(train, exist_ok=True)\n",
    "os.makedirs(test, exist_ok=True)\n",
    "\n",
    "# словарь с именами людей и их фотографиями\n",
    "names_dict = {}\n",
    "counter = 0\n",
    "#\n",
    "for file_name in os.listdir(crop_source):\n",
    "    name = file_name.split('_')[0]\n",
    "    names_dict.setdefault(name, []).append(file_name)\n",
    "    counter +=1\n",
    "\n",
    "for name, data in tqdm(names_dict.items(), desc='Разделение фото на выборки..', unit='image'):\n",
    "    random.shuffle(data)\n",
    "    # процент от всех данных (80% - train, остальное - test)\n",
    "    split_value = int(len(data)*0.80)\n",
    "    # разделяем список на выборки\n",
    "    train_files, test_files = data[:split_value], data[split_value:]\n",
    "\n",
    "    # для каждого имени создаем папку\n",
    "    os.makedirs(os.path.join(train, name), exist_ok=True)\n",
    "    os.makedirs(os.path.join(test, name), exist_ok=True)\n",
    "\n",
    "    # копируем файлы в созданные папки\n",
    "    for file in train_files:\n",
    "        shutil.copy(os.path.join(crop_source, file), os.path.join(train, name, file))\n",
    "    for file in test_files:\n",
    "        shutil.copy(os.path.join(crop_source, file), os.path.join(test, name, file))\n",
    "\n",
    "print('Разделение на выборки завершено')"
   ]
  },
  {
   "cell_type": "markdown",
   "metadata": {},
   "source": [
    "Предобработка фотографий"
   ]
  },
  {
   "cell_type": "code",
   "execution_count": 89,
   "metadata": {},
   "outputs": [],
   "source": [
    "# пайплайн для обработки фотографий\n",
    "transform = transforms.Compose([\n",
    "    transforms.Resize((224,224)),   # изменение размера на 224х224\n",
    "    transforms.ToTensor(),          # приведение к тензору\n",
    "    transforms.Normalize([0.5],[0.5]) # нормализация (mean=0.5, std=0.5)\n",
    "])"
   ]
  },
  {
   "cell_type": "code",
   "execution_count": 90,
   "metadata": {},
   "outputs": [
    {
     "name": "stdout",
     "output_type": "stream",
     "text": [
      "Кол-во классов: 31\n"
     ]
    }
   ],
   "source": [
    "# загружаем папки с фотграфиями\n",
    "train_dataset = ImageFolder(root=train, transform=transform)\n",
    "test_dataset = ImageFolder(root=test, transform=transform)\n",
    "\n",
    "# создаем датасеты из папок\n",
    "train_loader = DataLoader(train_dataset, batch_size=BATCH_SIZE, shuffle=True)\n",
    "test_loader = DataLoader(test_dataset, batch_size=BATCH_SIZE, shuffle=True)\n",
    "\n",
    "num_classes = train_dataset.classes\n",
    "print(f'Кол-во классов: {len(num_classes)}')"
   ]
  },
  {
   "cell_type": "code",
   "execution_count": 95,
   "metadata": {},
   "outputs": [
    {
     "name": "stderr",
     "output_type": "stream",
     "text": [
      "Эпоха [1/8] обучение..: 100%|██████████| 159/159 [04:11<00:00,  1.58s/data]\n"
     ]
    },
    {
     "name": "stdout",
     "output_type": "stream",
     "text": [
      "Эпоха [1/8], Loss: 1.5382\n",
      "Время: 4.19\n"
     ]
    },
    {
     "name": "stderr",
     "output_type": "stream",
     "text": [
      "Эпоха [2/8] обучение..: 100%|██████████| 159/159 [04:10<00:00,  1.57s/data]\n"
     ]
    },
    {
     "name": "stdout",
     "output_type": "stream",
     "text": [
      "Эпоха [2/8], Loss: 0.5637\n",
      "Время: 4.17\n"
     ]
    },
    {
     "name": "stderr",
     "output_type": "stream",
     "text": [
      "Эпоха [3/8] обучение..: 100%|██████████| 159/159 [04:16<00:00,  1.61s/data]\n"
     ]
    },
    {
     "name": "stdout",
     "output_type": "stream",
     "text": [
      "Эпоха [3/8], Loss: 0.2846\n",
      "Время: 4.27\n"
     ]
    },
    {
     "name": "stderr",
     "output_type": "stream",
     "text": [
      "Эпоха [4/8] обучение..: 100%|██████████| 159/159 [03:56<00:00,  1.49s/data]\n"
     ]
    },
    {
     "name": "stdout",
     "output_type": "stream",
     "text": [
      "Эпоха [4/8], Loss: 0.1917\n",
      "Время: 3.94\n"
     ]
    },
    {
     "name": "stderr",
     "output_type": "stream",
     "text": [
      "Эпоха [5/8] обучение..: 100%|██████████| 159/159 [03:44<00:00,  1.41s/data]\n"
     ]
    },
    {
     "name": "stdout",
     "output_type": "stream",
     "text": [
      "Эпоха [5/8], Loss: 0.1021\n",
      "Время: 3.75\n"
     ]
    },
    {
     "name": "stderr",
     "output_type": "stream",
     "text": [
      "Эпоха [6/8] обучение..: 100%|██████████| 159/159 [03:44<00:00,  1.41s/data]\n"
     ]
    },
    {
     "name": "stdout",
     "output_type": "stream",
     "text": [
      "Эпоха [6/8], Loss: 0.1253\n",
      "Время: 3.74\n"
     ]
    },
    {
     "name": "stderr",
     "output_type": "stream",
     "text": [
      "Эпоха [7/8] обучение..: 100%|██████████| 159/159 [03:42<00:00,  1.40s/data]\n"
     ]
    },
    {
     "name": "stdout",
     "output_type": "stream",
     "text": [
      "Эпоха [7/8], Loss: 0.1143\n",
      "Время: 3.71\n"
     ]
    },
    {
     "name": "stderr",
     "output_type": "stream",
     "text": [
      "Эпоха [8/8] обучение..: 100%|██████████| 159/159 [03:42<00:00,  1.40s/data]"
     ]
    },
    {
     "name": "stdout",
     "output_type": "stream",
     "text": [
      "Эпоха [8/8], Loss: 0.1078\n",
      "Время: 3.72\n",
      "Обучение завершено!\n",
      "Модель сохранена!\n"
     ]
    },
    {
     "name": "stderr",
     "output_type": "stream",
     "text": [
      "\n"
     ]
    }
   ],
   "source": [
    "import time\n",
    "\n",
    "# загружаем предобученную модель ResNet18\n",
    "rec_model = models.resnet18(pretrained=True)\n",
    "# меняем последний слой\n",
    "rec_model.fc = nn.Linear(rec_model.fc.in_features, len(num_classes))\n",
    "\n",
    "# оптимизатор\n",
    "optimizer = optim.Adam(rec_model.parameters(), lr=LEARNING_RATE)\n",
    "criterition = nn.CrossEntropyLoss()\n",
    "\n",
    "# обучение модели\n",
    "rec_model.to(DEVICE)    # обозначаем девайс вычисления\n",
    "\n",
    "# обучение по эпохам\n",
    "for epoch in range(EPOCHS):\n",
    "    epoch_time = time.time()\n",
    "    rec_model.train()\n",
    "\n",
    "    total_loss = 0\n",
    "\n",
    "\n",
    "    for images, labels in tqdm(train_loader, \n",
    "            desc=f'Эпоха [{epoch+1}/{EPOCHS}] обучение..',\n",
    "            unit='data'):\n",
    "        images, labels = images.to(DEVICE), labels.to(DEVICE)\n",
    "        # сбрасываем оптимайзер\n",
    "        optimizer.zero_grad()\n",
    "        outputs = rec_model(images)\n",
    "\n",
    "        loss = criterition(outputs, labels)\n",
    "        loss.backward()\n",
    "        optimizer.step()\n",
    "\n",
    "        total_loss+=loss.item()\n",
    "        \n",
    "    print(f'Эпоха [{epoch+1}/{EPOCHS}], Loss: {total_loss/len(train_loader):.4f}')\n",
    "    print(f'Время: {(time.time()-epoch_time)/60:.2f}')\n",
    "\n",
    "print('Обучение завершено!')\n",
    "\n",
    "# Сохранение модели\n",
    "torch.save(rec_model, \"face_recognition.pth\")\n",
    "print(\"Модель сохранена!\")"
   ]
  },
  {
   "cell_type": "code",
   "execution_count": 62,
   "metadata": {},
   "outputs": [],
   "source": [
    "from PIL import Image\n",
    "import torch.nn.functional as F"
   ]
  },
  {
   "cell_type": "code",
   "execution_count": 96,
   "metadata": {},
   "outputs": [
    {
     "data": {
      "text/plain": [
       "ResNet(\n",
       "  (conv1): Conv2d(3, 64, kernel_size=(7, 7), stride=(2, 2), padding=(3, 3), bias=False)\n",
       "  (bn1): BatchNorm2d(64, eps=1e-05, momentum=0.1, affine=True, track_running_stats=True)\n",
       "  (relu): ReLU(inplace=True)\n",
       "  (maxpool): MaxPool2d(kernel_size=3, stride=2, padding=1, dilation=1, ceil_mode=False)\n",
       "  (layer1): Sequential(\n",
       "    (0): BasicBlock(\n",
       "      (conv1): Conv2d(64, 64, kernel_size=(3, 3), stride=(1, 1), padding=(1, 1), bias=False)\n",
       "      (bn1): BatchNorm2d(64, eps=1e-05, momentum=0.1, affine=True, track_running_stats=True)\n",
       "      (relu): ReLU(inplace=True)\n",
       "      (conv2): Conv2d(64, 64, kernel_size=(3, 3), stride=(1, 1), padding=(1, 1), bias=False)\n",
       "      (bn2): BatchNorm2d(64, eps=1e-05, momentum=0.1, affine=True, track_running_stats=True)\n",
       "    )\n",
       "    (1): BasicBlock(\n",
       "      (conv1): Conv2d(64, 64, kernel_size=(3, 3), stride=(1, 1), padding=(1, 1), bias=False)\n",
       "      (bn1): BatchNorm2d(64, eps=1e-05, momentum=0.1, affine=True, track_running_stats=True)\n",
       "      (relu): ReLU(inplace=True)\n",
       "      (conv2): Conv2d(64, 64, kernel_size=(3, 3), stride=(1, 1), padding=(1, 1), bias=False)\n",
       "      (bn2): BatchNorm2d(64, eps=1e-05, momentum=0.1, affine=True, track_running_stats=True)\n",
       "    )\n",
       "  )\n",
       "  (layer2): Sequential(\n",
       "    (0): BasicBlock(\n",
       "      (conv1): Conv2d(64, 128, kernel_size=(3, 3), stride=(2, 2), padding=(1, 1), bias=False)\n",
       "      (bn1): BatchNorm2d(128, eps=1e-05, momentum=0.1, affine=True, track_running_stats=True)\n",
       "      (relu): ReLU(inplace=True)\n",
       "      (conv2): Conv2d(128, 128, kernel_size=(3, 3), stride=(1, 1), padding=(1, 1), bias=False)\n",
       "      (bn2): BatchNorm2d(128, eps=1e-05, momentum=0.1, affine=True, track_running_stats=True)\n",
       "      (downsample): Sequential(\n",
       "        (0): Conv2d(64, 128, kernel_size=(1, 1), stride=(2, 2), bias=False)\n",
       "        (1): BatchNorm2d(128, eps=1e-05, momentum=0.1, affine=True, track_running_stats=True)\n",
       "      )\n",
       "    )\n",
       "    (1): BasicBlock(\n",
       "      (conv1): Conv2d(128, 128, kernel_size=(3, 3), stride=(1, 1), padding=(1, 1), bias=False)\n",
       "      (bn1): BatchNorm2d(128, eps=1e-05, momentum=0.1, affine=True, track_running_stats=True)\n",
       "      (relu): ReLU(inplace=True)\n",
       "      (conv2): Conv2d(128, 128, kernel_size=(3, 3), stride=(1, 1), padding=(1, 1), bias=False)\n",
       "      (bn2): BatchNorm2d(128, eps=1e-05, momentum=0.1, affine=True, track_running_stats=True)\n",
       "    )\n",
       "  )\n",
       "  (layer3): Sequential(\n",
       "    (0): BasicBlock(\n",
       "      (conv1): Conv2d(128, 256, kernel_size=(3, 3), stride=(2, 2), padding=(1, 1), bias=False)\n",
       "      (bn1): BatchNorm2d(256, eps=1e-05, momentum=0.1, affine=True, track_running_stats=True)\n",
       "      (relu): ReLU(inplace=True)\n",
       "      (conv2): Conv2d(256, 256, kernel_size=(3, 3), stride=(1, 1), padding=(1, 1), bias=False)\n",
       "      (bn2): BatchNorm2d(256, eps=1e-05, momentum=0.1, affine=True, track_running_stats=True)\n",
       "      (downsample): Sequential(\n",
       "        (0): Conv2d(128, 256, kernel_size=(1, 1), stride=(2, 2), bias=False)\n",
       "        (1): BatchNorm2d(256, eps=1e-05, momentum=0.1, affine=True, track_running_stats=True)\n",
       "      )\n",
       "    )\n",
       "    (1): BasicBlock(\n",
       "      (conv1): Conv2d(256, 256, kernel_size=(3, 3), stride=(1, 1), padding=(1, 1), bias=False)\n",
       "      (bn1): BatchNorm2d(256, eps=1e-05, momentum=0.1, affine=True, track_running_stats=True)\n",
       "      (relu): ReLU(inplace=True)\n",
       "      (conv2): Conv2d(256, 256, kernel_size=(3, 3), stride=(1, 1), padding=(1, 1), bias=False)\n",
       "      (bn2): BatchNorm2d(256, eps=1e-05, momentum=0.1, affine=True, track_running_stats=True)\n",
       "    )\n",
       "  )\n",
       "  (layer4): Sequential(\n",
       "    (0): BasicBlock(\n",
       "      (conv1): Conv2d(256, 512, kernel_size=(3, 3), stride=(2, 2), padding=(1, 1), bias=False)\n",
       "      (bn1): BatchNorm2d(512, eps=1e-05, momentum=0.1, affine=True, track_running_stats=True)\n",
       "      (relu): ReLU(inplace=True)\n",
       "      (conv2): Conv2d(512, 512, kernel_size=(3, 3), stride=(1, 1), padding=(1, 1), bias=False)\n",
       "      (bn2): BatchNorm2d(512, eps=1e-05, momentum=0.1, affine=True, track_running_stats=True)\n",
       "      (downsample): Sequential(\n",
       "        (0): Conv2d(256, 512, kernel_size=(1, 1), stride=(2, 2), bias=False)\n",
       "        (1): BatchNorm2d(512, eps=1e-05, momentum=0.1, affine=True, track_running_stats=True)\n",
       "      )\n",
       "    )\n",
       "    (1): BasicBlock(\n",
       "      (conv1): Conv2d(512, 512, kernel_size=(3, 3), stride=(1, 1), padding=(1, 1), bias=False)\n",
       "      (bn1): BatchNorm2d(512, eps=1e-05, momentum=0.1, affine=True, track_running_stats=True)\n",
       "      (relu): ReLU(inplace=True)\n",
       "      (conv2): Conv2d(512, 512, kernel_size=(3, 3), stride=(1, 1), padding=(1, 1), bias=False)\n",
       "      (bn2): BatchNorm2d(512, eps=1e-05, momentum=0.1, affine=True, track_running_stats=True)\n",
       "    )\n",
       "  )\n",
       "  (avgpool): AdaptiveAvgPool2d(output_size=(1, 1))\n",
       "  (fc): Linear(in_features=512, out_features=31, bias=True)\n",
       ")"
      ]
     },
     "execution_count": 96,
     "metadata": {},
     "output_type": "execute_result"
    }
   ],
   "source": [
    "\n",
    "rec_model = torch.load('face_recognition.pth', weights_only=False)\n",
    "rec_model.eval()\n",
    "# rec_model.\n",
    "# model.eval()"
   ]
  },
  {
   "cell_type": "code",
   "execution_count": null,
   "metadata": {},
   "outputs": [],
   "source": []
  },
  {
   "cell_type": "code",
   "execution_count": 99,
   "metadata": {},
   "outputs": [],
   "source": [
    "# функция распознавания\n",
    "def predict_image(image_data: str | np.ndarray):\n",
    "    if type(image_data) == str:\n",
    "        image = Image.open(image_data).convert('RGB')\n",
    "        image = transform(image).unsqueeze(0).to(DEVICE)\n",
    "        print(type(image))\n",
    "        \n",
    "    if type(image_data) == np.ndarray:\n",
    "        image = Image.fromarray((cv2.cvtColor(image_data, cv2.COLOR_BGR2RGB)))\n",
    "        image = transform(image).unsqueeze(0).to(DEVICE)\n",
    "        print(type(image))\n",
    "        \n",
    "    with torch.no_grad():\n",
    "        output = rec_model(image)\n",
    "        proba = F.softmax(output, dim=1)\n",
    "        predict = torch.argmax(proba, dim=1).item()\n",
    "\n",
    "    class_name = train_dataset.classes[predict]\n",
    "    return class_name, proba.max().item()"
   ]
  },
  {
   "cell_type": "code",
   "execution_count": 140,
   "metadata": {},
   "outputs": [],
   "source": [
    "# Функция предсказания\n",
    "def predict_image(image_path: str | np.ndarray, rec_model):\n",
    "    if type(image_path) == str:\n",
    "        image = Image.open(image_path).convert(\"RGB\")\n",
    "        # image = cv2.imread(image_path)\n",
    "        print(type(image))\n",
    "        image = transform(image).unsqueeze(0).to(DEVICE)\n",
    "        print(type(image))\n",
    "        print(image.shape)\n",
    "\n",
    "    if type(image_path) == np.ndarray:\n",
    "        image = Image.fromarray(image_path)\n",
    "        print('3', type(image))\n",
    "        image = transform(image).unsqueeze(0).to(DEVICE)\n",
    "        print('4', type(image))\n",
    "        print(image.shape)\n",
    "\n",
    "    with torch.no_grad():\n",
    "        output = rec_model(image)\n",
    "        proba = F.softmax(output, dim=1)\n",
    "        print(f'proba {proba}')\n",
    "        predict = torch.argmax(proba, dim=1).item()\n",
    "        print(f'predict {predict}')\n",
    "    \n",
    "    class_name = train_dataset.classes[predict]\n",
    "    return class_name, proba.max().item()"
   ]
  },
  {
   "cell_type": "code",
   "execution_count": 141,
   "metadata": {},
   "outputs": [
    {
     "name": "stdout",
     "output_type": "stream",
     "text": [
      "1 <class 'numpy.ndarray'>\n",
      "2 <class 'numpy.ndarray'>\n",
      "3 <class 'PIL.Image.Image'>\n",
      "4 <class 'torch.Tensor'>\n",
      "torch.Size([1, 3, 224, 224])\n",
      "proba tensor([[1.9204e-07, 3.8914e-10, 2.4488e-06, 6.0415e-06, 1.0454e-08, 1.6610e-04, 1.6805e-09, 8.5303e-10, 3.1746e-08, 1.7468e-08, 1.5045e-10, 6.2657e-11, 4.2701e-11, 3.6763e-09, 2.3334e-07, 5.0705e-09, 2.1911e-07, 5.5024e-11, 1.7104e-05, 6.9773e-04, 1.7018e-10, 1.9419e-10, 9.9909e-01, 1.6911e-09, 4.1363e-08, 6.7567e-07,\n",
      "         2.6938e-07, 1.1807e-10, 1.7264e-06, 1.2411e-05, 3.8668e-07]])\n",
      "predict 22\n",
      "На фото Marmik, уверенность: 1.00\n"
     ]
    }
   ],
   "source": [
    "# тест предсказания\n",
    "image_path = r'D:\\Helper\\MLBazyak\\chemp\\face_recognitionV2\\Module2\\Data\\face_recognition\\test\\Marmik\\Marmik_21.jpg'\n",
    "image_array = cv2.imread(image_path)\n",
    "print('1',type(image_array))\n",
    "image_array = cv2.cvtColor(image_array, cv2.COLOR_BGR2RGB)\n",
    "print('2',type(image_array))\n",
    "person, conf = predict_image(image_array, rec_model)\n",
    "print(f'На фото {person}, уверенность: {conf:.2f}')"
   ]
  },
  {
   "cell_type": "markdown",
   "metadata": {},
   "source": [
    "<class 'PIL.Image.Image'>\n",
    "\n",
    "<class 'torch.Tensor'>\n",
    "\n",
    "torch.Size([1, 3, 224, 224])\n",
    "\n",
    "На фото Kashyap, уверенность: 0.88"
   ]
  },
  {
   "cell_type": "markdown",
   "metadata": {},
   "source": [
    "## Функция для получения фото"
   ]
  },
  {
   "cell_type": "code",
   "execution_count": null,
   "metadata": {},
   "outputs": [],
   "source": [
    "def get_photo(img_path: str, model_det: YOLO):\n",
    "    res = model_det.predict(img_path, conf=0.3, iou=0.2)\n",
    "    image = cv2.imread(img_path)\n",
    "    # проходимся по результатам детекции\n",
    "    for result in res:\n",
    "        boxes = result.boxes.xyxy.cpu().numpy()\n",
    "        for box in boxes:\n",
    "            x1,y1,x2,y2 = map(int, box)\n",
    "            crop = image[y1:y2, x1:x2]\n",
    "\n",
    "    return crop"
   ]
  },
  {
   "cell_type": "code",
   "execution_count": 101,
   "metadata": {},
   "outputs": [
    {
     "name": "stdout",
     "output_type": "stream",
     "text": [
      "\n",
      "image 1/1 d:\\Helper\\MLBazyak\\chemp\\face_recognitionV2\\Module2\\Data\\face_detection\\test\\images\\man_9452.jpg: 640x640 1 face, 129.0ms\n",
      "Speed: 4.7ms preprocess, 129.0ms inference, 4.4ms postprocess per image at shape (1, 3, 640, 640)\n"
     ]
    },
    {
     "data": {
      "image/png": "[encoded data removed]",
      "text/plain": [
       "<Figure size 1000x600 with 1 Axes>"
      ]
     },
     "metadata": {},
     "output_type": "display_data"
    }
   ],
   "source": [
    "img_path = './Data/face_detection/test/images/man_9452.jpg'\n",
    "crop = get_photo(img_path, det_model)\n",
    "\n",
    "\n",
    "plt.figure(figsize=(10,6))\n",
    "# plt.imshow(cv2.cvtColor(crop, cv2.COLOR_BGR2RGB))\n",
    "plt.imshow(Image.fromarray(cv2.cvtColor(crop, cv2.COLOR_BGR2RGB)))\n",
    "plt.title('Crop')\n",
    "plt.axis('off')\n",
    "plt.show()"
   ]
  },
  {
   "cell_type": "markdown",
   "metadata": {},
   "source": [
    "### Функция для отправки результатов"
   ]
  },
  {
   "cell_type": "code",
   "execution_count": null,
   "metadata": {},
   "outputs": [],
   "source": [
    "def send_results(crop):\n",
    "    person, conf = predict_image(crop)\n",
    "    return person, conf\n"
   ]
  }
 ],
 "metadata": {
  "kernelspec": {
   "display_name": ".venv",
   "language": "python",
   "name": "python3"
  },
  "language_info": {
   "codemirror_mode": {
    "name": "ipython",
    "version": 3
   },
   "file_extension": ".py",
   "mimetype": "text/x-python",
   "name": "python",
   "nbconvert_exporter": "python",
   "pygments_lexer": "ipython3",
   "version": "3.11.9"
  }
 },
 "nbformat": 4,
 "nbformat_minor": 2
}
